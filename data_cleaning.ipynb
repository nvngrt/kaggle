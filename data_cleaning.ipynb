{
 "cells": [
  {
   "cell_type": "markdown",
   "source": [
    "## Задача"
   ],
   "metadata": {
    "collapsed": false,
    "pycharm": {
     "name": "#%% md\n"
    }
   }
  },
  {
   "cell_type": "markdown",
   "source": [
    "Необходимо привести данные в читаемый и понятный для работы вид"
   ],
   "metadata": {
    "collapsed": false,
    "pycharm": {
     "name": "#%% md\n"
    }
   }
  },
  {
   "cell_type": "code",
   "execution_count": 1,
   "outputs": [],
   "source": [
    "import numpy as np\n",
    "import pandas as pd\n",
    "import seaborn as sns\n",
    "import matplotlib.pyplot as plt\n",
    "import os\n",
    "from scipy.stats import shapiro\n",
    "import scipy.stats as stats\n",
    "import warnings\n",
    "warnings.filterwarnings(\"ignore\")\n",
    "warnings.simplefilter(action='ignore', category=FutureWarning)"
   ],
   "metadata": {
    "collapsed": false,
    "pycharm": {
     "name": "#%%\n"
    }
   }
  },
  {
   "cell_type": "markdown",
   "source": [
    "## Изучение данных"
   ],
   "metadata": {
    "collapsed": false,
    "pycharm": {
     "name": "#%% md\n"
    }
   }
  },
  {
   "cell_type": "code",
   "execution_count": 2,
   "outputs": [
    {
     "data": {
      "text/plain": "                 Row Type       Iter Number             Power1  Speed1  \\\n0      first name: Person  last name: Human  date: end of time     NaN   \n1                     NaN               NaN                NaN     NaN   \n2                Row Type       Iter Number             Power1  Speed1   \n3                    Iter                 1                360     108   \n4                    Iter                 2                684     508   \n...                   ...               ...                ...     ...   \n76372                Iter                 6                879      73   \n76373             Average               979                641     531   \n76374             Maximum               783                172     941   \n76375            Std.Dev.               221                112     717   \n76376               Total               429                  -       -   \n\n       Speed2  Electricity  Effort  Weight  Torque  Unnamed: 9 Unnamed: 10  \n0         NaN          NaN     NaN     NaN     NaN         NaN         NaN  \n1         NaN          NaN     NaN     NaN     NaN         NaN         NaN  \n2      Speed2  Electricity  Effort  Weight  Torque         NaN         NaN  \n3         863          599     680     442     982         NaN         NaN  \n4         613          241     249     758     639         NaN         NaN  \n...       ...          ...     ...     ...     ...         ...         ...  \n76372     977          680     500     395     863         NaN         NaN  \n76373     374          448     407     185     439         NaN         NaN  \n76374      53          982     217     963     502         NaN         NaN  \n76375     630          239     561     142     909         NaN         NaN  \n76376       -            -     847     583     407         NaN         NaN  \n\n[76377 rows x 11 columns]",
      "text/html": "<div>\n<style scoped>\n    .dataframe tbody tr th:only-of-type {\n        vertical-align: middle;\n    }\n\n    .dataframe tbody tr th {\n        vertical-align: top;\n    }\n\n    .dataframe thead th {\n        text-align: right;\n    }\n</style>\n<table border=\"1\" class=\"dataframe\">\n  <thead>\n    <tr style=\"text-align: right;\">\n      <th></th>\n      <th>Row Type</th>\n      <th>Iter Number</th>\n      <th>Power1</th>\n      <th>Speed1</th>\n      <th>Speed2</th>\n      <th>Electricity</th>\n      <th>Effort</th>\n      <th>Weight</th>\n      <th>Torque</th>\n      <th>Unnamed: 9</th>\n      <th>Unnamed: 10</th>\n    </tr>\n  </thead>\n  <tbody>\n    <tr>\n      <th>0</th>\n      <td>first name: Person</td>\n      <td>last name: Human</td>\n      <td>date: end of time</td>\n      <td>NaN</td>\n      <td>NaN</td>\n      <td>NaN</td>\n      <td>NaN</td>\n      <td>NaN</td>\n      <td>NaN</td>\n      <td>NaN</td>\n      <td>NaN</td>\n    </tr>\n    <tr>\n      <th>1</th>\n      <td>NaN</td>\n      <td>NaN</td>\n      <td>NaN</td>\n      <td>NaN</td>\n      <td>NaN</td>\n      <td>NaN</td>\n      <td>NaN</td>\n      <td>NaN</td>\n      <td>NaN</td>\n      <td>NaN</td>\n      <td>NaN</td>\n    </tr>\n    <tr>\n      <th>2</th>\n      <td>Row Type</td>\n      <td>Iter Number</td>\n      <td>Power1</td>\n      <td>Speed1</td>\n      <td>Speed2</td>\n      <td>Electricity</td>\n      <td>Effort</td>\n      <td>Weight</td>\n      <td>Torque</td>\n      <td>NaN</td>\n      <td>NaN</td>\n    </tr>\n    <tr>\n      <th>3</th>\n      <td>Iter</td>\n      <td>1</td>\n      <td>360</td>\n      <td>108</td>\n      <td>863</td>\n      <td>599</td>\n      <td>680</td>\n      <td>442</td>\n      <td>982</td>\n      <td>NaN</td>\n      <td>NaN</td>\n    </tr>\n    <tr>\n      <th>4</th>\n      <td>Iter</td>\n      <td>2</td>\n      <td>684</td>\n      <td>508</td>\n      <td>613</td>\n      <td>241</td>\n      <td>249</td>\n      <td>758</td>\n      <td>639</td>\n      <td>NaN</td>\n      <td>NaN</td>\n    </tr>\n    <tr>\n      <th>...</th>\n      <td>...</td>\n      <td>...</td>\n      <td>...</td>\n      <td>...</td>\n      <td>...</td>\n      <td>...</td>\n      <td>...</td>\n      <td>...</td>\n      <td>...</td>\n      <td>...</td>\n      <td>...</td>\n    </tr>\n    <tr>\n      <th>76372</th>\n      <td>Iter</td>\n      <td>6</td>\n      <td>879</td>\n      <td>73</td>\n      <td>977</td>\n      <td>680</td>\n      <td>500</td>\n      <td>395</td>\n      <td>863</td>\n      <td>NaN</td>\n      <td>NaN</td>\n    </tr>\n    <tr>\n      <th>76373</th>\n      <td>Average</td>\n      <td>979</td>\n      <td>641</td>\n      <td>531</td>\n      <td>374</td>\n      <td>448</td>\n      <td>407</td>\n      <td>185</td>\n      <td>439</td>\n      <td>NaN</td>\n      <td>NaN</td>\n    </tr>\n    <tr>\n      <th>76374</th>\n      <td>Maximum</td>\n      <td>783</td>\n      <td>172</td>\n      <td>941</td>\n      <td>53</td>\n      <td>982</td>\n      <td>217</td>\n      <td>963</td>\n      <td>502</td>\n      <td>NaN</td>\n      <td>NaN</td>\n    </tr>\n    <tr>\n      <th>76375</th>\n      <td>Std.Dev.</td>\n      <td>221</td>\n      <td>112</td>\n      <td>717</td>\n      <td>630</td>\n      <td>239</td>\n      <td>561</td>\n      <td>142</td>\n      <td>909</td>\n      <td>NaN</td>\n      <td>NaN</td>\n    </tr>\n    <tr>\n      <th>76376</th>\n      <td>Total</td>\n      <td>429</td>\n      <td>-</td>\n      <td>-</td>\n      <td>-</td>\n      <td>-</td>\n      <td>847</td>\n      <td>583</td>\n      <td>407</td>\n      <td>NaN</td>\n      <td>NaN</td>\n    </tr>\n  </tbody>\n</table>\n<p>76377 rows × 11 columns</p>\n</div>"
     },
     "execution_count": 2,
     "metadata": {},
     "output_type": "execute_result"
    }
   ],
   "source": [
    "data = pd.read_csv('/datasets/data_cleaning_challenge.csv')\n",
    "data"
   ],
   "metadata": {
    "collapsed": false,
    "pycharm": {
     "name": "#%%\n"
    }
   }
  },
  {
   "cell_type": "markdown",
   "source": [
    "## Обработка данных"
   ],
   "metadata": {
    "collapsed": false
   }
  },
  {
   "cell_type": "code",
   "execution_count": 3,
   "outputs": [],
   "source": [
    "# уберу пустые столбцы\n",
    "data = data.drop(columns=['Unnamed: 9', 'Unnamed: 10'])"
   ],
   "metadata": {
    "collapsed": false,
    "pycharm": {
     "name": "#%%\n"
    }
   }
  },
  {
   "cell_type": "code",
   "execution_count": 4,
   "outputs": [
    {
     "data": {
      "text/plain": "                 Row Type       Iter Number             Power1  Speed1  \\\n0      first name: Person  last name: Human  date: end of time     NaN   \n1                     NaN               NaN                NaN     NaN   \n2                Row Type       Iter Number             Power1  Speed1   \n3                    Iter                 1                360     108   \n4                    Iter                 2                684     508   \n...                   ...               ...                ...     ...   \n76372                Iter                 6                879      73   \n76373             Average               979                641     531   \n76374             Maximum               783                172     941   \n76375            Std.Dev.               221                112     717   \n76376               Total               429                  -       -   \n\n       Speed2  Electricity  Effort  Weight  Torque  \n0         NaN          NaN     NaN     NaN     NaN  \n1         NaN          NaN     NaN     NaN     NaN  \n2      Speed2  Electricity  Effort  Weight  Torque  \n3         863          599     680     442     982  \n4         613          241     249     758     639  \n...       ...          ...     ...     ...     ...  \n76372     977          680     500     395     863  \n76373     374          448     407     185     439  \n76374      53          982     217     963     502  \n76375     630          239     561     142     909  \n76376       -            -     847     583     407  \n\n[76377 rows x 9 columns]",
      "text/html": "<div>\n<style scoped>\n    .dataframe tbody tr th:only-of-type {\n        vertical-align: middle;\n    }\n\n    .dataframe tbody tr th {\n        vertical-align: top;\n    }\n\n    .dataframe thead th {\n        text-align: right;\n    }\n</style>\n<table border=\"1\" class=\"dataframe\">\n  <thead>\n    <tr style=\"text-align: right;\">\n      <th></th>\n      <th>Row Type</th>\n      <th>Iter Number</th>\n      <th>Power1</th>\n      <th>Speed1</th>\n      <th>Speed2</th>\n      <th>Electricity</th>\n      <th>Effort</th>\n      <th>Weight</th>\n      <th>Torque</th>\n    </tr>\n  </thead>\n  <tbody>\n    <tr>\n      <th>0</th>\n      <td>first name: Person</td>\n      <td>last name: Human</td>\n      <td>date: end of time</td>\n      <td>NaN</td>\n      <td>NaN</td>\n      <td>NaN</td>\n      <td>NaN</td>\n      <td>NaN</td>\n      <td>NaN</td>\n    </tr>\n    <tr>\n      <th>1</th>\n      <td>NaN</td>\n      <td>NaN</td>\n      <td>NaN</td>\n      <td>NaN</td>\n      <td>NaN</td>\n      <td>NaN</td>\n      <td>NaN</td>\n      <td>NaN</td>\n      <td>NaN</td>\n    </tr>\n    <tr>\n      <th>2</th>\n      <td>Row Type</td>\n      <td>Iter Number</td>\n      <td>Power1</td>\n      <td>Speed1</td>\n      <td>Speed2</td>\n      <td>Electricity</td>\n      <td>Effort</td>\n      <td>Weight</td>\n      <td>Torque</td>\n    </tr>\n    <tr>\n      <th>3</th>\n      <td>Iter</td>\n      <td>1</td>\n      <td>360</td>\n      <td>108</td>\n      <td>863</td>\n      <td>599</td>\n      <td>680</td>\n      <td>442</td>\n      <td>982</td>\n    </tr>\n    <tr>\n      <th>4</th>\n      <td>Iter</td>\n      <td>2</td>\n      <td>684</td>\n      <td>508</td>\n      <td>613</td>\n      <td>241</td>\n      <td>249</td>\n      <td>758</td>\n      <td>639</td>\n    </tr>\n    <tr>\n      <th>...</th>\n      <td>...</td>\n      <td>...</td>\n      <td>...</td>\n      <td>...</td>\n      <td>...</td>\n      <td>...</td>\n      <td>...</td>\n      <td>...</td>\n      <td>...</td>\n    </tr>\n    <tr>\n      <th>76372</th>\n      <td>Iter</td>\n      <td>6</td>\n      <td>879</td>\n      <td>73</td>\n      <td>977</td>\n      <td>680</td>\n      <td>500</td>\n      <td>395</td>\n      <td>863</td>\n    </tr>\n    <tr>\n      <th>76373</th>\n      <td>Average</td>\n      <td>979</td>\n      <td>641</td>\n      <td>531</td>\n      <td>374</td>\n      <td>448</td>\n      <td>407</td>\n      <td>185</td>\n      <td>439</td>\n    </tr>\n    <tr>\n      <th>76374</th>\n      <td>Maximum</td>\n      <td>783</td>\n      <td>172</td>\n      <td>941</td>\n      <td>53</td>\n      <td>982</td>\n      <td>217</td>\n      <td>963</td>\n      <td>502</td>\n    </tr>\n    <tr>\n      <th>76375</th>\n      <td>Std.Dev.</td>\n      <td>221</td>\n      <td>112</td>\n      <td>717</td>\n      <td>630</td>\n      <td>239</td>\n      <td>561</td>\n      <td>142</td>\n      <td>909</td>\n    </tr>\n    <tr>\n      <th>76376</th>\n      <td>Total</td>\n      <td>429</td>\n      <td>-</td>\n      <td>-</td>\n      <td>-</td>\n      <td>-</td>\n      <td>847</td>\n      <td>583</td>\n      <td>407</td>\n    </tr>\n  </tbody>\n</table>\n<p>76377 rows × 9 columns</p>\n</div>"
     },
     "execution_count": 4,
     "metadata": {},
     "output_type": "execute_result"
    }
   ],
   "source": [
    "data"
   ],
   "metadata": {
    "collapsed": false,
    "pycharm": {
     "name": "#%%\n"
    }
   }
  },
  {
   "cell_type": "code",
   "execution_count": 5,
   "outputs": [],
   "source": [
    "#уберем пропущенные строки\n",
    "data_no_nans = data.copy()\n",
    "data_no_nans = data_no_nans[data['Row Type'].notna()].reset_index()"
   ],
   "metadata": {
    "collapsed": false,
    "pycharm": {
     "name": "#%%\n"
    }
   }
  },
  {
   "cell_type": "code",
   "execution_count": 6,
   "outputs": [],
   "source": [
    "data_no_nans.drop(columns='index', inplace=True)"
   ],
   "metadata": {
    "collapsed": false,
    "pycharm": {
     "name": "#%%\n"
    }
   }
  },
  {
   "cell_type": "code",
   "execution_count": 7,
   "outputs": [],
   "source": [
    "# создадим лист, в котором для каждого пользователя присвоим порядковый номер\n",
    "person_number = []\n",
    "counter = 0\n",
    "\n",
    "for i in data_no_nans['Row Type']:\n",
    "    if 'first name' in i:\n",
    "        counter += 1\n",
    "    person_number.append(counter)"
   ],
   "metadata": {
    "collapsed": false,
    "pycharm": {
     "name": "#%%\n"
    }
   }
  },
  {
   "cell_type": "code",
   "execution_count": 8,
   "outputs": [],
   "source": [
    "#person_number"
   ],
   "metadata": {
    "collapsed": false,
    "pycharm": {
     "name": "#%%\n"
    }
   }
  },
  {
   "cell_type": "code",
   "execution_count": 9,
   "outputs": [
    {
     "data": {
      "text/plain": "                 Row Type       Iter Number             Power1  Speed1  \\\n0      first name: Person  last name: Human  date: end of time     NaN   \n1                Row Type       Iter Number             Power1  Speed1   \n2                    Iter                 1                360     108   \n3                    Iter                 2                684     508   \n4                    Iter                 3                365     126   \n...                   ...               ...                ...     ...   \n58392                Iter                 6                879      73   \n58393             Average               979                641     531   \n58394             Maximum               783                172     941   \n58395            Std.Dev.               221                112     717   \n58396               Total               429                  -       -   \n\n       Speed2  Electricity  Effort  Weight  Torque  person_number  \n0         NaN          NaN     NaN     NaN     NaN              1  \n1      Speed2  Electricity  Effort  Weight  Torque              1  \n2         863          599     680     442     982              1  \n3         613          241     249     758     639              1  \n4         825          407     855     164      86              1  \n...       ...          ...     ...     ...     ...            ...  \n58392     977          680     500     395     863           5994  \n58393     374          448     407     185     439           5994  \n58394      53          982     217     963     502           5994  \n58395     630          239     561     142     909           5994  \n58396       -            -     847     583     407           5994  \n\n[58397 rows x 10 columns]",
      "text/html": "<div>\n<style scoped>\n    .dataframe tbody tr th:only-of-type {\n        vertical-align: middle;\n    }\n\n    .dataframe tbody tr th {\n        vertical-align: top;\n    }\n\n    .dataframe thead th {\n        text-align: right;\n    }\n</style>\n<table border=\"1\" class=\"dataframe\">\n  <thead>\n    <tr style=\"text-align: right;\">\n      <th></th>\n      <th>Row Type</th>\n      <th>Iter Number</th>\n      <th>Power1</th>\n      <th>Speed1</th>\n      <th>Speed2</th>\n      <th>Electricity</th>\n      <th>Effort</th>\n      <th>Weight</th>\n      <th>Torque</th>\n      <th>person_number</th>\n    </tr>\n  </thead>\n  <tbody>\n    <tr>\n      <th>0</th>\n      <td>first name: Person</td>\n      <td>last name: Human</td>\n      <td>date: end of time</td>\n      <td>NaN</td>\n      <td>NaN</td>\n      <td>NaN</td>\n      <td>NaN</td>\n      <td>NaN</td>\n      <td>NaN</td>\n      <td>1</td>\n    </tr>\n    <tr>\n      <th>1</th>\n      <td>Row Type</td>\n      <td>Iter Number</td>\n      <td>Power1</td>\n      <td>Speed1</td>\n      <td>Speed2</td>\n      <td>Electricity</td>\n      <td>Effort</td>\n      <td>Weight</td>\n      <td>Torque</td>\n      <td>1</td>\n    </tr>\n    <tr>\n      <th>2</th>\n      <td>Iter</td>\n      <td>1</td>\n      <td>360</td>\n      <td>108</td>\n      <td>863</td>\n      <td>599</td>\n      <td>680</td>\n      <td>442</td>\n      <td>982</td>\n      <td>1</td>\n    </tr>\n    <tr>\n      <th>3</th>\n      <td>Iter</td>\n      <td>2</td>\n      <td>684</td>\n      <td>508</td>\n      <td>613</td>\n      <td>241</td>\n      <td>249</td>\n      <td>758</td>\n      <td>639</td>\n      <td>1</td>\n    </tr>\n    <tr>\n      <th>4</th>\n      <td>Iter</td>\n      <td>3</td>\n      <td>365</td>\n      <td>126</td>\n      <td>825</td>\n      <td>407</td>\n      <td>855</td>\n      <td>164</td>\n      <td>86</td>\n      <td>1</td>\n    </tr>\n    <tr>\n      <th>...</th>\n      <td>...</td>\n      <td>...</td>\n      <td>...</td>\n      <td>...</td>\n      <td>...</td>\n      <td>...</td>\n      <td>...</td>\n      <td>...</td>\n      <td>...</td>\n      <td>...</td>\n    </tr>\n    <tr>\n      <th>58392</th>\n      <td>Iter</td>\n      <td>6</td>\n      <td>879</td>\n      <td>73</td>\n      <td>977</td>\n      <td>680</td>\n      <td>500</td>\n      <td>395</td>\n      <td>863</td>\n      <td>5994</td>\n    </tr>\n    <tr>\n      <th>58393</th>\n      <td>Average</td>\n      <td>979</td>\n      <td>641</td>\n      <td>531</td>\n      <td>374</td>\n      <td>448</td>\n      <td>407</td>\n      <td>185</td>\n      <td>439</td>\n      <td>5994</td>\n    </tr>\n    <tr>\n      <th>58394</th>\n      <td>Maximum</td>\n      <td>783</td>\n      <td>172</td>\n      <td>941</td>\n      <td>53</td>\n      <td>982</td>\n      <td>217</td>\n      <td>963</td>\n      <td>502</td>\n      <td>5994</td>\n    </tr>\n    <tr>\n      <th>58395</th>\n      <td>Std.Dev.</td>\n      <td>221</td>\n      <td>112</td>\n      <td>717</td>\n      <td>630</td>\n      <td>239</td>\n      <td>561</td>\n      <td>142</td>\n      <td>909</td>\n      <td>5994</td>\n    </tr>\n    <tr>\n      <th>58396</th>\n      <td>Total</td>\n      <td>429</td>\n      <td>-</td>\n      <td>-</td>\n      <td>-</td>\n      <td>-</td>\n      <td>847</td>\n      <td>583</td>\n      <td>407</td>\n      <td>5994</td>\n    </tr>\n  </tbody>\n</table>\n<p>58397 rows × 10 columns</p>\n</div>"
     },
     "execution_count": 9,
     "metadata": {},
     "output_type": "execute_result"
    }
   ],
   "source": [
    "# добавим лист как новый столбец\n",
    "data_no_nans['person_number'] = person_number\n",
    "data_no_nans"
   ],
   "metadata": {
    "collapsed": false,
    "pycharm": {
     "name": "#%%\n"
    }
   }
  },
  {
   "cell_type": "code",
   "execution_count": 10,
   "outputs": [],
   "source": [
    "# уберу строки, повторяющие название столбцов\n",
    "data_no_nans = data_no_nans[data_no_nans['Row Type'] != 'Row Type']"
   ],
   "metadata": {
    "collapsed": false,
    "pycharm": {
     "name": "#%%\n"
    }
   }
  },
  {
   "cell_type": "code",
   "execution_count": 11,
   "outputs": [
    {
     "data": {
      "text/plain": "                 Row Type       Iter Number             Power1 Speed1 Speed2  \\\n0      first name: Person  last name: Human  date: end of time    NaN    NaN   \n2                    Iter                 1                360    108    863   \n3                    Iter                 2                684    508    613   \n4                    Iter                 3                365    126    825   \n5                    Iter                 4                764    594    304   \n...                   ...               ...                ...    ...    ...   \n58392                Iter                 6                879     73    977   \n58393             Average               979                641    531    374   \n58394             Maximum               783                172    941     53   \n58395            Std.Dev.               221                112    717    630   \n58396               Total               429                  -      -      -   \n\n      Electricity Effort Weight Torque  person_number  \n0             NaN    NaN    NaN    NaN              1  \n2             599    680    442    982              1  \n3             241    249    758    639              1  \n4             407    855    164     86              1  \n5             718    278    674    774              1  \n...           ...    ...    ...    ...            ...  \n58392         680    500    395    863           5994  \n58393         448    407    185    439           5994  \n58394         982    217    963    502           5994  \n58395         239    561    142    909           5994  \n58396           -    847    583    407           5994  \n\n[52403 rows x 10 columns]",
      "text/html": "<div>\n<style scoped>\n    .dataframe tbody tr th:only-of-type {\n        vertical-align: middle;\n    }\n\n    .dataframe tbody tr th {\n        vertical-align: top;\n    }\n\n    .dataframe thead th {\n        text-align: right;\n    }\n</style>\n<table border=\"1\" class=\"dataframe\">\n  <thead>\n    <tr style=\"text-align: right;\">\n      <th></th>\n      <th>Row Type</th>\n      <th>Iter Number</th>\n      <th>Power1</th>\n      <th>Speed1</th>\n      <th>Speed2</th>\n      <th>Electricity</th>\n      <th>Effort</th>\n      <th>Weight</th>\n      <th>Torque</th>\n      <th>person_number</th>\n    </tr>\n  </thead>\n  <tbody>\n    <tr>\n      <th>0</th>\n      <td>first name: Person</td>\n      <td>last name: Human</td>\n      <td>date: end of time</td>\n      <td>NaN</td>\n      <td>NaN</td>\n      <td>NaN</td>\n      <td>NaN</td>\n      <td>NaN</td>\n      <td>NaN</td>\n      <td>1</td>\n    </tr>\n    <tr>\n      <th>2</th>\n      <td>Iter</td>\n      <td>1</td>\n      <td>360</td>\n      <td>108</td>\n      <td>863</td>\n      <td>599</td>\n      <td>680</td>\n      <td>442</td>\n      <td>982</td>\n      <td>1</td>\n    </tr>\n    <tr>\n      <th>3</th>\n      <td>Iter</td>\n      <td>2</td>\n      <td>684</td>\n      <td>508</td>\n      <td>613</td>\n      <td>241</td>\n      <td>249</td>\n      <td>758</td>\n      <td>639</td>\n      <td>1</td>\n    </tr>\n    <tr>\n      <th>4</th>\n      <td>Iter</td>\n      <td>3</td>\n      <td>365</td>\n      <td>126</td>\n      <td>825</td>\n      <td>407</td>\n      <td>855</td>\n      <td>164</td>\n      <td>86</td>\n      <td>1</td>\n    </tr>\n    <tr>\n      <th>5</th>\n      <td>Iter</td>\n      <td>4</td>\n      <td>764</td>\n      <td>594</td>\n      <td>304</td>\n      <td>718</td>\n      <td>278</td>\n      <td>674</td>\n      <td>774</td>\n      <td>1</td>\n    </tr>\n    <tr>\n      <th>...</th>\n      <td>...</td>\n      <td>...</td>\n      <td>...</td>\n      <td>...</td>\n      <td>...</td>\n      <td>...</td>\n      <td>...</td>\n      <td>...</td>\n      <td>...</td>\n      <td>...</td>\n    </tr>\n    <tr>\n      <th>58392</th>\n      <td>Iter</td>\n      <td>6</td>\n      <td>879</td>\n      <td>73</td>\n      <td>977</td>\n      <td>680</td>\n      <td>500</td>\n      <td>395</td>\n      <td>863</td>\n      <td>5994</td>\n    </tr>\n    <tr>\n      <th>58393</th>\n      <td>Average</td>\n      <td>979</td>\n      <td>641</td>\n      <td>531</td>\n      <td>374</td>\n      <td>448</td>\n      <td>407</td>\n      <td>185</td>\n      <td>439</td>\n      <td>5994</td>\n    </tr>\n    <tr>\n      <th>58394</th>\n      <td>Maximum</td>\n      <td>783</td>\n      <td>172</td>\n      <td>941</td>\n      <td>53</td>\n      <td>982</td>\n      <td>217</td>\n      <td>963</td>\n      <td>502</td>\n      <td>5994</td>\n    </tr>\n    <tr>\n      <th>58395</th>\n      <td>Std.Dev.</td>\n      <td>221</td>\n      <td>112</td>\n      <td>717</td>\n      <td>630</td>\n      <td>239</td>\n      <td>561</td>\n      <td>142</td>\n      <td>909</td>\n      <td>5994</td>\n    </tr>\n    <tr>\n      <th>58396</th>\n      <td>Total</td>\n      <td>429</td>\n      <td>-</td>\n      <td>-</td>\n      <td>-</td>\n      <td>-</td>\n      <td>847</td>\n      <td>583</td>\n      <td>407</td>\n      <td>5994</td>\n    </tr>\n  </tbody>\n</table>\n<p>52403 rows × 10 columns</p>\n</div>"
     },
     "execution_count": 11,
     "metadata": {},
     "output_type": "execute_result"
    }
   ],
   "source": [
    "data_no_nans"
   ],
   "metadata": {
    "collapsed": false,
    "pycharm": {
     "name": "#%%\n"
    }
   }
  },
  {
   "cell_type": "code",
   "execution_count": 12,
   "outputs": [],
   "source": [
    "# выделю имя и фамилию каждого человека в ДФ-е\n",
    "df_by_name = data_no_nans[data_no_nans['Row Type'].str.contains('first name')]\n",
    "\n",
    "# уберу лишние столбы\n",
    "df_by_name.drop(columns=['Speed1', 'Speed2', 'Electricity', 'Effort', 'Weight', 'Torque'], inplace=True)\n",
    "\n",
    "# переименую столбы\n",
    "df_by_name.columns = ['First name', 'Last name', 'Date', 'person_number']\n",
    "\n",
    "# оставлю только данные, не дублирующие название столбцов\n",
    "df_by_name['First name'] = df_by_name['First name'].str[12:]\n",
    "df_by_name['Last name'] = df_by_name['Last name'].str[11:]\n",
    "df_by_name['Date'] = df_by_name['Date'].str[6:]"
   ],
   "metadata": {
    "collapsed": false,
    "pycharm": {
     "name": "#%%\n"
    }
   }
  },
  {
   "cell_type": "code",
   "execution_count": 13,
   "outputs": [
    {
     "data": {
      "text/plain": "      First name Last name         Date  person_number\n0         Person     Human  end of time              1\n11        Person     Human  end of time              2\n22        Person     Human  end of time              3\n33        Person     Human  end of time              4\n44        Person     Human  end of time              5\n...          ...       ...          ...            ...\n58342     Person     Human  end of time           5990\n58352     Person     Human  end of time           5991\n58363     Person     Human  end of time           5992\n58374     Person     Human  end of time           5993\n58385     Person     Human  end of time           5994\n\n[5994 rows x 4 columns]",
      "text/html": "<div>\n<style scoped>\n    .dataframe tbody tr th:only-of-type {\n        vertical-align: middle;\n    }\n\n    .dataframe tbody tr th {\n        vertical-align: top;\n    }\n\n    .dataframe thead th {\n        text-align: right;\n    }\n</style>\n<table border=\"1\" class=\"dataframe\">\n  <thead>\n    <tr style=\"text-align: right;\">\n      <th></th>\n      <th>First name</th>\n      <th>Last name</th>\n      <th>Date</th>\n      <th>person_number</th>\n    </tr>\n  </thead>\n  <tbody>\n    <tr>\n      <th>0</th>\n      <td>Person</td>\n      <td>Human</td>\n      <td>end of time</td>\n      <td>1</td>\n    </tr>\n    <tr>\n      <th>11</th>\n      <td>Person</td>\n      <td>Human</td>\n      <td>end of time</td>\n      <td>2</td>\n    </tr>\n    <tr>\n      <th>22</th>\n      <td>Person</td>\n      <td>Human</td>\n      <td>end of time</td>\n      <td>3</td>\n    </tr>\n    <tr>\n      <th>33</th>\n      <td>Person</td>\n      <td>Human</td>\n      <td>end of time</td>\n      <td>4</td>\n    </tr>\n    <tr>\n      <th>44</th>\n      <td>Person</td>\n      <td>Human</td>\n      <td>end of time</td>\n      <td>5</td>\n    </tr>\n    <tr>\n      <th>...</th>\n      <td>...</td>\n      <td>...</td>\n      <td>...</td>\n      <td>...</td>\n    </tr>\n    <tr>\n      <th>58342</th>\n      <td>Person</td>\n      <td>Human</td>\n      <td>end of time</td>\n      <td>5990</td>\n    </tr>\n    <tr>\n      <th>58352</th>\n      <td>Person</td>\n      <td>Human</td>\n      <td>end of time</td>\n      <td>5991</td>\n    </tr>\n    <tr>\n      <th>58363</th>\n      <td>Person</td>\n      <td>Human</td>\n      <td>end of time</td>\n      <td>5992</td>\n    </tr>\n    <tr>\n      <th>58374</th>\n      <td>Person</td>\n      <td>Human</td>\n      <td>end of time</td>\n      <td>5993</td>\n    </tr>\n    <tr>\n      <th>58385</th>\n      <td>Person</td>\n      <td>Human</td>\n      <td>end of time</td>\n      <td>5994</td>\n    </tr>\n  </tbody>\n</table>\n<p>5994 rows × 4 columns</p>\n</div>"
     },
     "execution_count": 13,
     "metadata": {},
     "output_type": "execute_result"
    }
   ],
   "source": [
    "df_by_name"
   ],
   "metadata": {
    "collapsed": false,
    "pycharm": {
     "name": "#%%\n"
    }
   }
  },
  {
   "cell_type": "code",
   "execution_count": 14,
   "outputs": [],
   "source": [
    "# создад ДФ без имен и фамилий\n",
    "df_no_name = data_no_nans[~data_no_nans['Row Type'].str.contains('first name')]"
   ],
   "metadata": {
    "collapsed": false,
    "pycharm": {
     "name": "#%%\n"
    }
   }
  },
  {
   "cell_type": "code",
   "execution_count": 15,
   "outputs": [
    {
     "data": {
      "text/plain": "       Row Type Iter Number Power1 Speed1 Speed2 Electricity Effort Weight  \\\n2          Iter           1    360    108    863         599    680    442   \n3          Iter           2    684    508    613         241    249    758   \n4          Iter           3    365    126    825         407    855    164   \n5          Iter           4    764    594    304         718    278    674   \n6          Iter           5    487     97    593         206    779    800   \n...         ...         ...    ...    ...    ...         ...    ...    ...   \n58392      Iter           6    879     73    977         680    500    395   \n58393   Average         979    641    531    374         448    407    185   \n58394   Maximum         783    172    941     53         982    217    963   \n58395  Std.Dev.         221    112    717    630         239    561    142   \n58396     Total         429      -      -      -           -    847    583   \n\n      Torque  person_number  \n2        982              1  \n3        639              1  \n4         86              1  \n5        774              1  \n6        123              1  \n...      ...            ...  \n58392    863           5994  \n58393    439           5994  \n58394    502           5994  \n58395    909           5994  \n58396    407           5994  \n\n[46409 rows x 10 columns]",
      "text/html": "<div>\n<style scoped>\n    .dataframe tbody tr th:only-of-type {\n        vertical-align: middle;\n    }\n\n    .dataframe tbody tr th {\n        vertical-align: top;\n    }\n\n    .dataframe thead th {\n        text-align: right;\n    }\n</style>\n<table border=\"1\" class=\"dataframe\">\n  <thead>\n    <tr style=\"text-align: right;\">\n      <th></th>\n      <th>Row Type</th>\n      <th>Iter Number</th>\n      <th>Power1</th>\n      <th>Speed1</th>\n      <th>Speed2</th>\n      <th>Electricity</th>\n      <th>Effort</th>\n      <th>Weight</th>\n      <th>Torque</th>\n      <th>person_number</th>\n    </tr>\n  </thead>\n  <tbody>\n    <tr>\n      <th>2</th>\n      <td>Iter</td>\n      <td>1</td>\n      <td>360</td>\n      <td>108</td>\n      <td>863</td>\n      <td>599</td>\n      <td>680</td>\n      <td>442</td>\n      <td>982</td>\n      <td>1</td>\n    </tr>\n    <tr>\n      <th>3</th>\n      <td>Iter</td>\n      <td>2</td>\n      <td>684</td>\n      <td>508</td>\n      <td>613</td>\n      <td>241</td>\n      <td>249</td>\n      <td>758</td>\n      <td>639</td>\n      <td>1</td>\n    </tr>\n    <tr>\n      <th>4</th>\n      <td>Iter</td>\n      <td>3</td>\n      <td>365</td>\n      <td>126</td>\n      <td>825</td>\n      <td>407</td>\n      <td>855</td>\n      <td>164</td>\n      <td>86</td>\n      <td>1</td>\n    </tr>\n    <tr>\n      <th>5</th>\n      <td>Iter</td>\n      <td>4</td>\n      <td>764</td>\n      <td>594</td>\n      <td>304</td>\n      <td>718</td>\n      <td>278</td>\n      <td>674</td>\n      <td>774</td>\n      <td>1</td>\n    </tr>\n    <tr>\n      <th>6</th>\n      <td>Iter</td>\n      <td>5</td>\n      <td>487</td>\n      <td>97</td>\n      <td>593</td>\n      <td>206</td>\n      <td>779</td>\n      <td>800</td>\n      <td>123</td>\n      <td>1</td>\n    </tr>\n    <tr>\n      <th>...</th>\n      <td>...</td>\n      <td>...</td>\n      <td>...</td>\n      <td>...</td>\n      <td>...</td>\n      <td>...</td>\n      <td>...</td>\n      <td>...</td>\n      <td>...</td>\n      <td>...</td>\n    </tr>\n    <tr>\n      <th>58392</th>\n      <td>Iter</td>\n      <td>6</td>\n      <td>879</td>\n      <td>73</td>\n      <td>977</td>\n      <td>680</td>\n      <td>500</td>\n      <td>395</td>\n      <td>863</td>\n      <td>5994</td>\n    </tr>\n    <tr>\n      <th>58393</th>\n      <td>Average</td>\n      <td>979</td>\n      <td>641</td>\n      <td>531</td>\n      <td>374</td>\n      <td>448</td>\n      <td>407</td>\n      <td>185</td>\n      <td>439</td>\n      <td>5994</td>\n    </tr>\n    <tr>\n      <th>58394</th>\n      <td>Maximum</td>\n      <td>783</td>\n      <td>172</td>\n      <td>941</td>\n      <td>53</td>\n      <td>982</td>\n      <td>217</td>\n      <td>963</td>\n      <td>502</td>\n      <td>5994</td>\n    </tr>\n    <tr>\n      <th>58395</th>\n      <td>Std.Dev.</td>\n      <td>221</td>\n      <td>112</td>\n      <td>717</td>\n      <td>630</td>\n      <td>239</td>\n      <td>561</td>\n      <td>142</td>\n      <td>909</td>\n      <td>5994</td>\n    </tr>\n    <tr>\n      <th>58396</th>\n      <td>Total</td>\n      <td>429</td>\n      <td>-</td>\n      <td>-</td>\n      <td>-</td>\n      <td>-</td>\n      <td>847</td>\n      <td>583</td>\n      <td>407</td>\n      <td>5994</td>\n    </tr>\n  </tbody>\n</table>\n<p>46409 rows × 10 columns</p>\n</div>"
     },
     "execution_count": 15,
     "metadata": {},
     "output_type": "execute_result"
    }
   ],
   "source": [
    "df_no_name"
   ],
   "metadata": {
    "collapsed": false,
    "pycharm": {
     "name": "#%%\n"
    }
   }
  },
  {
   "cell_type": "code",
   "execution_count": 16,
   "outputs": [],
   "source": [
    "final_data = pd.merge(left=df_by_name, right=df_no_name, on='person_number')\n",
    "final_data.drop(columns='person_number', inplace=True)"
   ],
   "metadata": {
    "collapsed": false,
    "pycharm": {
     "name": "#%%\n"
    }
   }
  },
  {
   "cell_type": "code",
   "execution_count": 17,
   "outputs": [
    {
     "data": {
      "text/plain": "   First name Last name         Date  Row Type Iter Number Power1 Speed1  \\\n0      Person     Human  end of time      Iter           1    360    108   \n1      Person     Human  end of time      Iter           2    684    508   \n2      Person     Human  end of time      Iter           3    365    126   \n3      Person     Human  end of time      Iter           4    764    594   \n4      Person     Human  end of time      Iter           5    487     97   \n5      Person     Human  end of time   Average         182    361    741   \n6      Person     Human  end of time   Maximum         276     33     97   \n7      Person     Human  end of time  Std.Dev.         523   1000     34   \n8      Person     Human  end of time     Total         336      -      -   \n9      Person     Human  end of time      Iter           1    702    494   \n10     Person     Human  end of time      Iter           2    929     82   \n11     Person     Human  end of time      Iter           3    763    402   \n12     Person     Human  end of time      Iter           4    469    930   \n13     Person     Human  end of time      Iter           5    688    145   \n14     Person     Human  end of time   Average          66    307    835   \n\n   Speed2 Electricity Effort Weight Torque  \n0     863         599    680    442    982  \n1     613         241    249    758    639  \n2     825         407    855    164     86  \n3     304         718    278    674    774  \n4     593         206    779    800    123  \n5     231         731    493    847    237  \n6     154          25    922      9    312  \n7     904         237    600    170    553  \n8       -           -    977    744    652  \n9     311         492    456    370    150  \n10    838         421    154    346    227  \n11    344         951    139    295    285  \n12    560         395    433    237    429  \n13     41         188    534    778    152  \n14    615         731    943    460     76  ",
      "text/html": "<div>\n<style scoped>\n    .dataframe tbody tr th:only-of-type {\n        vertical-align: middle;\n    }\n\n    .dataframe tbody tr th {\n        vertical-align: top;\n    }\n\n    .dataframe thead th {\n        text-align: right;\n    }\n</style>\n<table border=\"1\" class=\"dataframe\">\n  <thead>\n    <tr style=\"text-align: right;\">\n      <th></th>\n      <th>First name</th>\n      <th>Last name</th>\n      <th>Date</th>\n      <th>Row Type</th>\n      <th>Iter Number</th>\n      <th>Power1</th>\n      <th>Speed1</th>\n      <th>Speed2</th>\n      <th>Electricity</th>\n      <th>Effort</th>\n      <th>Weight</th>\n      <th>Torque</th>\n    </tr>\n  </thead>\n  <tbody>\n    <tr>\n      <th>0</th>\n      <td>Person</td>\n      <td>Human</td>\n      <td>end of time</td>\n      <td>Iter</td>\n      <td>1</td>\n      <td>360</td>\n      <td>108</td>\n      <td>863</td>\n      <td>599</td>\n      <td>680</td>\n      <td>442</td>\n      <td>982</td>\n    </tr>\n    <tr>\n      <th>1</th>\n      <td>Person</td>\n      <td>Human</td>\n      <td>end of time</td>\n      <td>Iter</td>\n      <td>2</td>\n      <td>684</td>\n      <td>508</td>\n      <td>613</td>\n      <td>241</td>\n      <td>249</td>\n      <td>758</td>\n      <td>639</td>\n    </tr>\n    <tr>\n      <th>2</th>\n      <td>Person</td>\n      <td>Human</td>\n      <td>end of time</td>\n      <td>Iter</td>\n      <td>3</td>\n      <td>365</td>\n      <td>126</td>\n      <td>825</td>\n      <td>407</td>\n      <td>855</td>\n      <td>164</td>\n      <td>86</td>\n    </tr>\n    <tr>\n      <th>3</th>\n      <td>Person</td>\n      <td>Human</td>\n      <td>end of time</td>\n      <td>Iter</td>\n      <td>4</td>\n      <td>764</td>\n      <td>594</td>\n      <td>304</td>\n      <td>718</td>\n      <td>278</td>\n      <td>674</td>\n      <td>774</td>\n    </tr>\n    <tr>\n      <th>4</th>\n      <td>Person</td>\n      <td>Human</td>\n      <td>end of time</td>\n      <td>Iter</td>\n      <td>5</td>\n      <td>487</td>\n      <td>97</td>\n      <td>593</td>\n      <td>206</td>\n      <td>779</td>\n      <td>800</td>\n      <td>123</td>\n    </tr>\n    <tr>\n      <th>5</th>\n      <td>Person</td>\n      <td>Human</td>\n      <td>end of time</td>\n      <td>Average</td>\n      <td>182</td>\n      <td>361</td>\n      <td>741</td>\n      <td>231</td>\n      <td>731</td>\n      <td>493</td>\n      <td>847</td>\n      <td>237</td>\n    </tr>\n    <tr>\n      <th>6</th>\n      <td>Person</td>\n      <td>Human</td>\n      <td>end of time</td>\n      <td>Maximum</td>\n      <td>276</td>\n      <td>33</td>\n      <td>97</td>\n      <td>154</td>\n      <td>25</td>\n      <td>922</td>\n      <td>9</td>\n      <td>312</td>\n    </tr>\n    <tr>\n      <th>7</th>\n      <td>Person</td>\n      <td>Human</td>\n      <td>end of time</td>\n      <td>Std.Dev.</td>\n      <td>523</td>\n      <td>1000</td>\n      <td>34</td>\n      <td>904</td>\n      <td>237</td>\n      <td>600</td>\n      <td>170</td>\n      <td>553</td>\n    </tr>\n    <tr>\n      <th>8</th>\n      <td>Person</td>\n      <td>Human</td>\n      <td>end of time</td>\n      <td>Total</td>\n      <td>336</td>\n      <td>-</td>\n      <td>-</td>\n      <td>-</td>\n      <td>-</td>\n      <td>977</td>\n      <td>744</td>\n      <td>652</td>\n    </tr>\n    <tr>\n      <th>9</th>\n      <td>Person</td>\n      <td>Human</td>\n      <td>end of time</td>\n      <td>Iter</td>\n      <td>1</td>\n      <td>702</td>\n      <td>494</td>\n      <td>311</td>\n      <td>492</td>\n      <td>456</td>\n      <td>370</td>\n      <td>150</td>\n    </tr>\n    <tr>\n      <th>10</th>\n      <td>Person</td>\n      <td>Human</td>\n      <td>end of time</td>\n      <td>Iter</td>\n      <td>2</td>\n      <td>929</td>\n      <td>82</td>\n      <td>838</td>\n      <td>421</td>\n      <td>154</td>\n      <td>346</td>\n      <td>227</td>\n    </tr>\n    <tr>\n      <th>11</th>\n      <td>Person</td>\n      <td>Human</td>\n      <td>end of time</td>\n      <td>Iter</td>\n      <td>3</td>\n      <td>763</td>\n      <td>402</td>\n      <td>344</td>\n      <td>951</td>\n      <td>139</td>\n      <td>295</td>\n      <td>285</td>\n    </tr>\n    <tr>\n      <th>12</th>\n      <td>Person</td>\n      <td>Human</td>\n      <td>end of time</td>\n      <td>Iter</td>\n      <td>4</td>\n      <td>469</td>\n      <td>930</td>\n      <td>560</td>\n      <td>395</td>\n      <td>433</td>\n      <td>237</td>\n      <td>429</td>\n    </tr>\n    <tr>\n      <th>13</th>\n      <td>Person</td>\n      <td>Human</td>\n      <td>end of time</td>\n      <td>Iter</td>\n      <td>5</td>\n      <td>688</td>\n      <td>145</td>\n      <td>41</td>\n      <td>188</td>\n      <td>534</td>\n      <td>778</td>\n      <td>152</td>\n    </tr>\n    <tr>\n      <th>14</th>\n      <td>Person</td>\n      <td>Human</td>\n      <td>end of time</td>\n      <td>Average</td>\n      <td>66</td>\n      <td>307</td>\n      <td>835</td>\n      <td>615</td>\n      <td>731</td>\n      <td>943</td>\n      <td>460</td>\n      <td>76</td>\n    </tr>\n  </tbody>\n</table>\n</div>"
     },
     "execution_count": 17,
     "metadata": {},
     "output_type": "execute_result"
    }
   ],
   "source": [
    "final_data.head(15)"
   ],
   "metadata": {
    "collapsed": false,
    "pycharm": {
     "name": "#%%\n"
    }
   }
  },
  {
   "cell_type": "code",
   "execution_count": 17,
   "outputs": [],
   "source": [],
   "metadata": {
    "collapsed": false,
    "pycharm": {
     "name": "#%%\n"
    }
   }
  }
 ],
 "metadata": {
  "kernelspec": {
   "display_name": "Python 3",
   "language": "python",
   "name": "python3"
  },
  "language_info": {
   "codemirror_mode": {
    "name": "ipython",
    "version": 2
   },
   "file_extension": ".py",
   "mimetype": "text/x-python",
   "name": "python",
   "nbconvert_exporter": "python",
   "pygments_lexer": "ipython2",
   "version": "2.7.6"
  }
 },
 "nbformat": 4,
 "nbformat_minor": 0
}