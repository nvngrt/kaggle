{
 "cells": [
  {
   "cell_type": "markdown",
   "source": [
    "## Описание данных"
   ],
   "metadata": {
    "collapsed": false,
    "pycharm": {
     "name": "#%% md\n"
    }
   }
  },
  {
   "cell_type": "markdown",
   "source": [
    "Имеются данные по 90,189 игрокам, которые установили игру во время A/B теста и случайно были распределены между группами - gate_30 или gate_40\n",
    "* userid - уникальный идентификатор пользователя.\n",
    "* version - в какую из групп попал пользователь: (gate_30 - a gate at level 30) или тестовую - (gate_40 - a gate at level 40).\n",
    "* sum_gamerounds - количество игровых раундов, сыгранных пользователем за 1 неделю после установки\n",
    "* retention_1 - вернулся ли пользователь в игру на 1й день после установки\n",
    "* retention_7 - вернулся ли пользователь в игру на 7й день после установки\n",
    "\n",
    "Различия между группами будут определяться на основе sum_gamerounds"
   ],
   "metadata": {
    "collapsed": false,
    "pycharm": {
     "name": "#%% md\n"
    }
   }
  },
  {
   "cell_type": "markdown",
   "source": [
    "## Изучение данных"
   ],
   "metadata": {
    "collapsed": false,
    "pycharm": {
     "name": "#%% md\n"
    }
   }
  },
  {
   "cell_type": "code",
   "execution_count": 1,
   "metadata": {
    "collapsed": true
   },
   "outputs": [],
   "source": [
    "import numpy as np\n",
    "import pandas as pd\n",
    "import seaborn as sns\n",
    "import matplotlib.pyplot as plt\n",
    "import os\n",
    "from scipy.stats import shapiro\n",
    "import scipy.stats as stats\n",
    "import warnings\n",
    "warnings.filterwarnings(\"ignore\")\n",
    "warnings.simplefilter(action='ignore', category=FutureWarning)"
   ]
  },
  {
   "cell_type": "code",
   "execution_count": 2,
   "outputs": [],
   "source": [
    "data = pd.read_csv('/datasets/cookie_cats.csv')"
   ],
   "metadata": {
    "collapsed": false,
    "pycharm": {
     "name": "#%%\n"
    }
   }
  },
  {
   "cell_type": "code",
   "execution_count": 49,
   "outputs": [
    {
     "data": {
      "text/plain": "        userid version  sum_gamerounds  retention_1  retention_7  retention\n0          116       A               3        False        False          0\n1          337       A              38         True        False          0\n2          377       B             165         True        False          0\n3          483       B               1        False        False          0\n4          488       B             179         True         True          1\n...        ...     ...             ...          ...          ...        ...\n90184  9999441       B              97         True        False          0\n90185  9999479       B              30        False        False          0\n90186  9999710       A              28         True        False          0\n90187  9999768       B              51         True        False          0\n90188  9999861       B              16        False        False          0\n\n[90188 rows x 6 columns]",
      "text/html": "<div>\n<style scoped>\n    .dataframe tbody tr th:only-of-type {\n        vertical-align: middle;\n    }\n\n    .dataframe tbody tr th {\n        vertical-align: top;\n    }\n\n    .dataframe thead th {\n        text-align: right;\n    }\n</style>\n<table border=\"1\" class=\"dataframe\">\n  <thead>\n    <tr style=\"text-align: right;\">\n      <th></th>\n      <th>userid</th>\n      <th>version</th>\n      <th>sum_gamerounds</th>\n      <th>retention_1</th>\n      <th>retention_7</th>\n      <th>retention</th>\n    </tr>\n  </thead>\n  <tbody>\n    <tr>\n      <th>0</th>\n      <td>116</td>\n      <td>A</td>\n      <td>3</td>\n      <td>False</td>\n      <td>False</td>\n      <td>0</td>\n    </tr>\n    <tr>\n      <th>1</th>\n      <td>337</td>\n      <td>A</td>\n      <td>38</td>\n      <td>True</td>\n      <td>False</td>\n      <td>0</td>\n    </tr>\n    <tr>\n      <th>2</th>\n      <td>377</td>\n      <td>B</td>\n      <td>165</td>\n      <td>True</td>\n      <td>False</td>\n      <td>0</td>\n    </tr>\n    <tr>\n      <th>3</th>\n      <td>483</td>\n      <td>B</td>\n      <td>1</td>\n      <td>False</td>\n      <td>False</td>\n      <td>0</td>\n    </tr>\n    <tr>\n      <th>4</th>\n      <td>488</td>\n      <td>B</td>\n      <td>179</td>\n      <td>True</td>\n      <td>True</td>\n      <td>1</td>\n    </tr>\n    <tr>\n      <th>...</th>\n      <td>...</td>\n      <td>...</td>\n      <td>...</td>\n      <td>...</td>\n      <td>...</td>\n      <td>...</td>\n    </tr>\n    <tr>\n      <th>90184</th>\n      <td>9999441</td>\n      <td>B</td>\n      <td>97</td>\n      <td>True</td>\n      <td>False</td>\n      <td>0</td>\n    </tr>\n    <tr>\n      <th>90185</th>\n      <td>9999479</td>\n      <td>B</td>\n      <td>30</td>\n      <td>False</td>\n      <td>False</td>\n      <td>0</td>\n    </tr>\n    <tr>\n      <th>90186</th>\n      <td>9999710</td>\n      <td>A</td>\n      <td>28</td>\n      <td>True</td>\n      <td>False</td>\n      <td>0</td>\n    </tr>\n    <tr>\n      <th>90187</th>\n      <td>9999768</td>\n      <td>B</td>\n      <td>51</td>\n      <td>True</td>\n      <td>False</td>\n      <td>0</td>\n    </tr>\n    <tr>\n      <th>90188</th>\n      <td>9999861</td>\n      <td>B</td>\n      <td>16</td>\n      <td>False</td>\n      <td>False</td>\n      <td>0</td>\n    </tr>\n  </tbody>\n</table>\n<p>90188 rows × 6 columns</p>\n</div>"
     },
     "execution_count": 49,
     "metadata": {},
     "output_type": "execute_result"
    }
   ],
   "source": [
    "data"
   ],
   "metadata": {
    "collapsed": false,
    "pycharm": {
     "name": "#%%\n"
    }
   }
  },
  {
   "cell_type": "code",
   "execution_count": 4,
   "outputs": [
    {
     "data": {
      "text/plain": "True"
     },
     "execution_count": 4,
     "metadata": {},
     "output_type": "execute_result"
    }
   ],
   "source": [
    "# проверка количества уникальных пользователей\n",
    "\n",
    "data.shape[0] == data['userid'].nunique()"
   ],
   "metadata": {
    "collapsed": false,
    "pycharm": {
     "name": "#%%\n"
    }
   }
  },
  {
   "cell_type": "code",
   "execution_count": 5,
   "outputs": [
    {
     "data": {
      "text/plain": "                  count       mean         std  min   1%   5%  10%  20%   50%  \\\nsum_gamerounds  90189.0  51.872457  195.050858  0.0  0.0  1.0  1.0  3.0  16.0   \n\n                 80%    90%    95%    99%      max  \nsum_gamerounds  67.0  134.0  221.0  493.0  49854.0  ",
      "text/html": "<div>\n<style scoped>\n    .dataframe tbody tr th:only-of-type {\n        vertical-align: middle;\n    }\n\n    .dataframe tbody tr th {\n        vertical-align: top;\n    }\n\n    .dataframe thead th {\n        text-align: right;\n    }\n</style>\n<table border=\"1\" class=\"dataframe\">\n  <thead>\n    <tr style=\"text-align: right;\">\n      <th></th>\n      <th>count</th>\n      <th>mean</th>\n      <th>std</th>\n      <th>min</th>\n      <th>1%</th>\n      <th>5%</th>\n      <th>10%</th>\n      <th>20%</th>\n      <th>50%</th>\n      <th>80%</th>\n      <th>90%</th>\n      <th>95%</th>\n      <th>99%</th>\n      <th>max</th>\n    </tr>\n  </thead>\n  <tbody>\n    <tr>\n      <th>sum_gamerounds</th>\n      <td>90189.0</td>\n      <td>51.872457</td>\n      <td>195.050858</td>\n      <td>0.0</td>\n      <td>0.0</td>\n      <td>1.0</td>\n      <td>1.0</td>\n      <td>3.0</td>\n      <td>16.0</td>\n      <td>67.0</td>\n      <td>134.0</td>\n      <td>221.0</td>\n      <td>493.0</td>\n      <td>49854.0</td>\n    </tr>\n  </tbody>\n</table>\n</div>"
     },
     "execution_count": 5,
     "metadata": {},
     "output_type": "execute_result"
    }
   ],
   "source": [
    "# перцентили количества сыгранных раундов\n",
    "\n",
    "data.describe([0.01, 0.05, 0.10, 0.20, 0.80, 0.90, 0.95, 0.99])[[\"sum_gamerounds\"]].T"
   ],
   "metadata": {
    "collapsed": false,
    "pycharm": {
     "name": "#%%\n"
    }
   }
  },
  {
   "cell_type": "code",
   "execution_count": 6,
   "outputs": [
    {
     "data": {
      "text/plain": "         count  median       mean         std    max\nversion                                             \ngate_30  44700      17  52.456264  256.716423  49854\ngate_40  45489      16  51.298776  103.294416   2640",
      "text/html": "<div>\n<style scoped>\n    .dataframe tbody tr th:only-of-type {\n        vertical-align: middle;\n    }\n\n    .dataframe tbody tr th {\n        vertical-align: top;\n    }\n\n    .dataframe thead th {\n        text-align: right;\n    }\n</style>\n<table border=\"1\" class=\"dataframe\">\n  <thead>\n    <tr style=\"text-align: right;\">\n      <th></th>\n      <th>count</th>\n      <th>median</th>\n      <th>mean</th>\n      <th>std</th>\n      <th>max</th>\n    </tr>\n    <tr>\n      <th>version</th>\n      <th></th>\n      <th></th>\n      <th></th>\n      <th></th>\n      <th></th>\n    </tr>\n  </thead>\n  <tbody>\n    <tr>\n      <th>gate_30</th>\n      <td>44700</td>\n      <td>17</td>\n      <td>52.456264</td>\n      <td>256.716423</td>\n      <td>49854</td>\n    </tr>\n    <tr>\n      <th>gate_40</th>\n      <td>45489</td>\n      <td>16</td>\n      <td>51.298776</td>\n      <td>103.294416</td>\n      <td>2640</td>\n    </tr>\n  </tbody>\n</table>\n</div>"
     },
     "execution_count": 6,
     "metadata": {},
     "output_type": "execute_result"
    }
   ],
   "source": [
    "# посмотрим на данные по уровням в разрезе тестовой и контрольной группы\n",
    "data.groupby('version')['sum_gamerounds'].agg(['count', 'median', 'mean', 'std', 'max'])"
   ],
   "metadata": {
    "collapsed": false,
    "pycharm": {
     "name": "#%%\n"
    }
   }
  },
  {
   "cell_type": "markdown",
   "source": [
    "Виден сильный перекос в данных из-за максимального уровня игрока"
   ],
   "metadata": {
    "collapsed": false,
    "pycharm": {
     "name": "#%% md\n"
    }
   }
  },
  {
   "cell_type": "code",
   "execution_count": 7,
   "outputs": [
    {
     "data": {
      "text/plain": "         count  median       mean         std   max\nversion                                            \ngate_30  44699      17  51.342111  102.057598  2961\ngate_40  45489      16  51.298776  103.294416  2640",
      "text/html": "<div>\n<style scoped>\n    .dataframe tbody tr th:only-of-type {\n        vertical-align: middle;\n    }\n\n    .dataframe tbody tr th {\n        vertical-align: top;\n    }\n\n    .dataframe thead th {\n        text-align: right;\n    }\n</style>\n<table border=\"1\" class=\"dataframe\">\n  <thead>\n    <tr style=\"text-align: right;\">\n      <th></th>\n      <th>count</th>\n      <th>median</th>\n      <th>mean</th>\n      <th>std</th>\n      <th>max</th>\n    </tr>\n    <tr>\n      <th>version</th>\n      <th></th>\n      <th></th>\n      <th></th>\n      <th></th>\n      <th></th>\n    </tr>\n  </thead>\n  <tbody>\n    <tr>\n      <th>gate_30</th>\n      <td>44699</td>\n      <td>17</td>\n      <td>51.342111</td>\n      <td>102.057598</td>\n      <td>2961</td>\n    </tr>\n    <tr>\n      <th>gate_40</th>\n      <td>45489</td>\n      <td>16</td>\n      <td>51.298776</td>\n      <td>103.294416</td>\n      <td>2640</td>\n    </tr>\n  </tbody>\n</table>\n</div>"
     },
     "execution_count": 7,
     "metadata": {},
     "output_type": "execute_result"
    }
   ],
   "source": [
    "# уберем максимальное значение из ДФ-ма\n",
    "data = data[data['sum_gamerounds'] < data['sum_gamerounds'].max()]\n",
    "data.groupby('version')['sum_gamerounds'].agg(['count', 'median', 'mean', 'std', 'max'])"
   ],
   "metadata": {
    "collapsed": false,
    "pycharm": {
     "name": "#%%\n"
    }
   }
  },
  {
   "cell_type": "markdown",
   "source": [
    "Теперь данные по группам практически идентичны"
   ],
   "metadata": {
    "collapsed": false,
    "pycharm": {
     "name": "#%% md\n"
    }
   }
  },
  {
   "cell_type": "code",
   "execution_count": 8,
   "outputs": [
    {
     "data": {
      "text/plain": "3994"
     },
     "execution_count": 8,
     "metadata": {},
     "output_type": "execute_result"
    }
   ],
   "source": [
    "data[data['sum_gamerounds'] == 0].shape[0]"
   ],
   "metadata": {
    "collapsed": false,
    "pycharm": {
     "name": "#%%\n"
    }
   }
  },
  {
   "cell_type": "markdown",
   "source": [
    "При этом 3994 игрока не сыграли ни разу"
   ],
   "metadata": {
    "collapsed": false,
    "pycharm": {
     "name": "#%% md\n"
    }
   }
  },
  {
   "cell_type": "code",
   "execution_count": 51,
   "outputs": [
    {
     "data": {
      "text/plain": "   sum_gamerounds  userid\n0               0    3994\n1               1    5538\n2               2    4606\n3               3    3958\n4               4    3629",
      "text/html": "<div>\n<style scoped>\n    .dataframe tbody tr th:only-of-type {\n        vertical-align: middle;\n    }\n\n    .dataframe tbody tr th {\n        vertical-align: top;\n    }\n\n    .dataframe thead th {\n        text-align: right;\n    }\n</style>\n<table border=\"1\" class=\"dataframe\">\n  <thead>\n    <tr style=\"text-align: right;\">\n      <th></th>\n      <th>sum_gamerounds</th>\n      <th>userid</th>\n    </tr>\n  </thead>\n  <tbody>\n    <tr>\n      <th>0</th>\n      <td>0</td>\n      <td>3994</td>\n    </tr>\n    <tr>\n      <th>1</th>\n      <td>1</td>\n      <td>5538</td>\n    </tr>\n    <tr>\n      <th>2</th>\n      <td>2</td>\n      <td>4606</td>\n    </tr>\n    <tr>\n      <th>3</th>\n      <td>3</td>\n      <td>3958</td>\n    </tr>\n    <tr>\n      <th>4</th>\n      <td>4</td>\n      <td>3629</td>\n    </tr>\n  </tbody>\n</table>\n</div>"
     },
     "execution_count": 51,
     "metadata": {},
     "output_type": "execute_result"
    }
   ],
   "source": [
    "data.groupby(\"sum_gamerounds\")['userid'].count().reset_index().head(5)"
   ],
   "metadata": {
    "collapsed": false,
    "pycharm": {
     "name": "#%%\n"
    }
   }
  },
  {
   "cell_type": "markdown",
   "source": [
    "Распределение игроков по количеству sum_gamerounds"
   ],
   "metadata": {
    "collapsed": false,
    "pycharm": {
     "name": "#%% md\n"
    }
   }
  },
  {
   "cell_type": "markdown",
   "source": [
    "## Подготовка данных"
   ],
   "metadata": {
    "collapsed": false,
    "pycharm": {
     "name": "#%% md\n"
    }
   }
  },
  {
   "cell_type": "code",
   "execution_count": 10,
   "outputs": [
    {
     "data": {
      "text/plain": "        userid  version  sum_gamerounds  retention_1  retention_7\n0          116  gate_30               3        False        False\n1          337  gate_30              38         True        False\n2          377  gate_40             165         True        False\n3          483  gate_40               1        False        False\n4          488  gate_40             179         True         True\n...        ...      ...             ...          ...          ...\n90184  9999441  gate_40              97         True        False\n90185  9999479  gate_40              30        False        False\n90186  9999710  gate_30              28         True        False\n90187  9999768  gate_40              51         True        False\n90188  9999861  gate_40              16        False        False\n\n[90188 rows x 5 columns]",
      "text/html": "<div>\n<style scoped>\n    .dataframe tbody tr th:only-of-type {\n        vertical-align: middle;\n    }\n\n    .dataframe tbody tr th {\n        vertical-align: top;\n    }\n\n    .dataframe thead th {\n        text-align: right;\n    }\n</style>\n<table border=\"1\" class=\"dataframe\">\n  <thead>\n    <tr style=\"text-align: right;\">\n      <th></th>\n      <th>userid</th>\n      <th>version</th>\n      <th>sum_gamerounds</th>\n      <th>retention_1</th>\n      <th>retention_7</th>\n    </tr>\n  </thead>\n  <tbody>\n    <tr>\n      <th>0</th>\n      <td>116</td>\n      <td>gate_30</td>\n      <td>3</td>\n      <td>False</td>\n      <td>False</td>\n    </tr>\n    <tr>\n      <th>1</th>\n      <td>337</td>\n      <td>gate_30</td>\n      <td>38</td>\n      <td>True</td>\n      <td>False</td>\n    </tr>\n    <tr>\n      <th>2</th>\n      <td>377</td>\n      <td>gate_40</td>\n      <td>165</td>\n      <td>True</td>\n      <td>False</td>\n    </tr>\n    <tr>\n      <th>3</th>\n      <td>483</td>\n      <td>gate_40</td>\n      <td>1</td>\n      <td>False</td>\n      <td>False</td>\n    </tr>\n    <tr>\n      <th>4</th>\n      <td>488</td>\n      <td>gate_40</td>\n      <td>179</td>\n      <td>True</td>\n      <td>True</td>\n    </tr>\n    <tr>\n      <th>...</th>\n      <td>...</td>\n      <td>...</td>\n      <td>...</td>\n      <td>...</td>\n      <td>...</td>\n    </tr>\n    <tr>\n      <th>90184</th>\n      <td>9999441</td>\n      <td>gate_40</td>\n      <td>97</td>\n      <td>True</td>\n      <td>False</td>\n    </tr>\n    <tr>\n      <th>90185</th>\n      <td>9999479</td>\n      <td>gate_40</td>\n      <td>30</td>\n      <td>False</td>\n      <td>False</td>\n    </tr>\n    <tr>\n      <th>90186</th>\n      <td>9999710</td>\n      <td>gate_30</td>\n      <td>28</td>\n      <td>True</td>\n      <td>False</td>\n    </tr>\n    <tr>\n      <th>90187</th>\n      <td>9999768</td>\n      <td>gate_40</td>\n      <td>51</td>\n      <td>True</td>\n      <td>False</td>\n    </tr>\n    <tr>\n      <th>90188</th>\n      <td>9999861</td>\n      <td>gate_40</td>\n      <td>16</td>\n      <td>False</td>\n      <td>False</td>\n    </tr>\n  </tbody>\n</table>\n<p>90188 rows × 5 columns</p>\n</div>"
     },
     "execution_count": 10,
     "metadata": {},
     "output_type": "execute_result"
    }
   ],
   "source": [
    "data"
   ],
   "metadata": {
    "collapsed": false,
    "pycharm": {
     "name": "#%%\n"
    }
   }
  },
  {
   "cell_type": "code",
   "execution_count": 36,
   "outputs": [
    {
     "data": {
      "text/plain": "                     count  median       mean         std   max\nversion retention_1                                            \ngate_30 False        24665       6  16.359092   36.528426  1072\n        True         20034      48  94.411700  135.037697  2961\ngate_40 False        25370       6  16.340402   35.925756  1241\n        True         20119      49  95.381182  137.887256  2640",
      "text/html": "<div>\n<style scoped>\n    .dataframe tbody tr th:only-of-type {\n        vertical-align: middle;\n    }\n\n    .dataframe tbody tr th {\n        vertical-align: top;\n    }\n\n    .dataframe thead th {\n        text-align: right;\n    }\n</style>\n<table border=\"1\" class=\"dataframe\">\n  <thead>\n    <tr style=\"text-align: right;\">\n      <th></th>\n      <th></th>\n      <th>count</th>\n      <th>median</th>\n      <th>mean</th>\n      <th>std</th>\n      <th>max</th>\n    </tr>\n    <tr>\n      <th>version</th>\n      <th>retention_1</th>\n      <th></th>\n      <th></th>\n      <th></th>\n      <th></th>\n      <th></th>\n    </tr>\n  </thead>\n  <tbody>\n    <tr>\n      <th rowspan=\"2\" valign=\"top\">gate_30</th>\n      <th>False</th>\n      <td>24665</td>\n      <td>6</td>\n      <td>16.359092</td>\n      <td>36.528426</td>\n      <td>1072</td>\n    </tr>\n    <tr>\n      <th>True</th>\n      <td>20034</td>\n      <td>48</td>\n      <td>94.411700</td>\n      <td>135.037697</td>\n      <td>2961</td>\n    </tr>\n    <tr>\n      <th rowspan=\"2\" valign=\"top\">gate_40</th>\n      <th>False</th>\n      <td>25370</td>\n      <td>6</td>\n      <td>16.340402</td>\n      <td>35.925756</td>\n      <td>1241</td>\n    </tr>\n    <tr>\n      <th>True</th>\n      <td>20119</td>\n      <td>49</td>\n      <td>95.381182</td>\n      <td>137.887256</td>\n      <td>2640</td>\n    </tr>\n  </tbody>\n</table>\n</div>"
     },
     "execution_count": 36,
     "metadata": {},
     "output_type": "execute_result"
    }
   ],
   "source": [
    "data.groupby([\"version\", \"retention_1\"]).sum_gamerounds.agg([\"count\", \"median\", \"mean\", \"std\", \"max\"])"
   ],
   "metadata": {
    "collapsed": false,
    "pycharm": {
     "name": "#%%\n"
    }
   }
  },
  {
   "cell_type": "code",
   "execution_count": 31,
   "outputs": [
    {
     "data": {
      "text/plain": "                     count  median        mean         std   max\nversion retention_7                                             \ngate_30 False        36198      11   25.796508   43.316158   981\n        True          8501     105  160.117516  179.358560  2961\ngate_40 False        37210      11   25.856356   44.406112  2640\n        True          8279     111  165.649837  183.792499  2294",
      "text/html": "<div>\n<style scoped>\n    .dataframe tbody tr th:only-of-type {\n        vertical-align: middle;\n    }\n\n    .dataframe tbody tr th {\n        vertical-align: top;\n    }\n\n    .dataframe thead th {\n        text-align: right;\n    }\n</style>\n<table border=\"1\" class=\"dataframe\">\n  <thead>\n    <tr style=\"text-align: right;\">\n      <th></th>\n      <th></th>\n      <th>count</th>\n      <th>median</th>\n      <th>mean</th>\n      <th>std</th>\n      <th>max</th>\n    </tr>\n    <tr>\n      <th>version</th>\n      <th>retention_7</th>\n      <th></th>\n      <th></th>\n      <th></th>\n      <th></th>\n      <th></th>\n    </tr>\n  </thead>\n  <tbody>\n    <tr>\n      <th rowspan=\"2\" valign=\"top\">gate_30</th>\n      <th>False</th>\n      <td>36198</td>\n      <td>11</td>\n      <td>25.796508</td>\n      <td>43.316158</td>\n      <td>981</td>\n    </tr>\n    <tr>\n      <th>True</th>\n      <td>8501</td>\n      <td>105</td>\n      <td>160.117516</td>\n      <td>179.358560</td>\n      <td>2961</td>\n    </tr>\n    <tr>\n      <th rowspan=\"2\" valign=\"top\">gate_40</th>\n      <th>False</th>\n      <td>37210</td>\n      <td>11</td>\n      <td>25.856356</td>\n      <td>44.406112</td>\n      <td>2640</td>\n    </tr>\n    <tr>\n      <th>True</th>\n      <td>8279</td>\n      <td>111</td>\n      <td>165.649837</td>\n      <td>183.792499</td>\n      <td>2294</td>\n    </tr>\n  </tbody>\n</table>\n</div>"
     },
     "execution_count": 31,
     "metadata": {},
     "output_type": "execute_result"
    }
   ],
   "source": [
    "data.groupby([\"version\", \"retention_7\"]).sum_gamerounds.agg([\"count\", \"median\", \"mean\", \"std\", \"max\"])"
   ],
   "metadata": {
    "collapsed": false,
    "pycharm": {
     "name": "#%%\n"
    }
   }
  },
  {
   "cell_type": "code",
   "execution_count": 40,
   "outputs": [
    {
     "data": {
      "text/plain": "        userid  version  sum_gamerounds  retention_1  retention_7  retention\n0          116  gate_30               3        False        False          0\n1          337  gate_30              38         True        False          0\n2          377  gate_40             165         True        False          0\n3          483  gate_40               1        False        False          0\n4          488  gate_40             179         True         True          1\n...        ...      ...             ...          ...          ...        ...\n90184  9999441  gate_40              97         True        False          0\n90185  9999479  gate_40              30        False        False          0\n90186  9999710  gate_30              28         True        False          0\n90187  9999768  gate_40              51         True        False          0\n90188  9999861  gate_40              16        False        False          0\n\n[90188 rows x 6 columns]",
      "text/html": "<div>\n<style scoped>\n    .dataframe tbody tr th:only-of-type {\n        vertical-align: middle;\n    }\n\n    .dataframe tbody tr th {\n        vertical-align: top;\n    }\n\n    .dataframe thead th {\n        text-align: right;\n    }\n</style>\n<table border=\"1\" class=\"dataframe\">\n  <thead>\n    <tr style=\"text-align: right;\">\n      <th></th>\n      <th>userid</th>\n      <th>version</th>\n      <th>sum_gamerounds</th>\n      <th>retention_1</th>\n      <th>retention_7</th>\n      <th>retention</th>\n    </tr>\n  </thead>\n  <tbody>\n    <tr>\n      <th>0</th>\n      <td>116</td>\n      <td>gate_30</td>\n      <td>3</td>\n      <td>False</td>\n      <td>False</td>\n      <td>0</td>\n    </tr>\n    <tr>\n      <th>1</th>\n      <td>337</td>\n      <td>gate_30</td>\n      <td>38</td>\n      <td>True</td>\n      <td>False</td>\n      <td>0</td>\n    </tr>\n    <tr>\n      <th>2</th>\n      <td>377</td>\n      <td>gate_40</td>\n      <td>165</td>\n      <td>True</td>\n      <td>False</td>\n      <td>0</td>\n    </tr>\n    <tr>\n      <th>3</th>\n      <td>483</td>\n      <td>gate_40</td>\n      <td>1</td>\n      <td>False</td>\n      <td>False</td>\n      <td>0</td>\n    </tr>\n    <tr>\n      <th>4</th>\n      <td>488</td>\n      <td>gate_40</td>\n      <td>179</td>\n      <td>True</td>\n      <td>True</td>\n      <td>1</td>\n    </tr>\n    <tr>\n      <th>...</th>\n      <td>...</td>\n      <td>...</td>\n      <td>...</td>\n      <td>...</td>\n      <td>...</td>\n      <td>...</td>\n    </tr>\n    <tr>\n      <th>90184</th>\n      <td>9999441</td>\n      <td>gate_40</td>\n      <td>97</td>\n      <td>True</td>\n      <td>False</td>\n      <td>0</td>\n    </tr>\n    <tr>\n      <th>90185</th>\n      <td>9999479</td>\n      <td>gate_40</td>\n      <td>30</td>\n      <td>False</td>\n      <td>False</td>\n      <td>0</td>\n    </tr>\n    <tr>\n      <th>90186</th>\n      <td>9999710</td>\n      <td>gate_30</td>\n      <td>28</td>\n      <td>True</td>\n      <td>False</td>\n      <td>0</td>\n    </tr>\n    <tr>\n      <th>90187</th>\n      <td>9999768</td>\n      <td>gate_40</td>\n      <td>51</td>\n      <td>True</td>\n      <td>False</td>\n      <td>0</td>\n    </tr>\n    <tr>\n      <th>90188</th>\n      <td>9999861</td>\n      <td>gate_40</td>\n      <td>16</td>\n      <td>False</td>\n      <td>False</td>\n      <td>0</td>\n    </tr>\n  </tbody>\n</table>\n<p>90188 rows × 6 columns</p>\n</div>"
     },
     "execution_count": 40,
     "metadata": {},
     "output_type": "execute_result"
    }
   ],
   "source": [
    "# пользователям, которые вернулись на 1й и на 7й день присвоим 1 в столбце retention\n",
    "data['retention'] = np.where((data.retention_1 == True) & (data.retention_7 == True), 1,0)\n",
    "data"
   ],
   "metadata": {
    "collapsed": false,
    "pycharm": {
     "name": "#%%\n"
    }
   }
  },
  {
   "cell_type": "code",
   "execution_count": 35,
   "outputs": [
    {
     "data": {
      "text/plain": "                   count  median        mean         std   max\nversion retention                                             \ngate_30 0          38023      12   28.070273   48.017452  1072\n        1           6676     127  183.886309  189.626390  2961\ngate_40 0          38983      12   28.103353   48.927850  2640\n        1           6506     133  190.282355  194.220077  2294",
      "text/html": "<div>\n<style scoped>\n    .dataframe tbody tr th:only-of-type {\n        vertical-align: middle;\n    }\n\n    .dataframe tbody tr th {\n        vertical-align: top;\n    }\n\n    .dataframe thead th {\n        text-align: right;\n    }\n</style>\n<table border=\"1\" class=\"dataframe\">\n  <thead>\n    <tr style=\"text-align: right;\">\n      <th></th>\n      <th></th>\n      <th>count</th>\n      <th>median</th>\n      <th>mean</th>\n      <th>std</th>\n      <th>max</th>\n    </tr>\n    <tr>\n      <th>version</th>\n      <th>retention</th>\n      <th></th>\n      <th></th>\n      <th></th>\n      <th></th>\n      <th></th>\n    </tr>\n  </thead>\n  <tbody>\n    <tr>\n      <th rowspan=\"2\" valign=\"top\">gate_30</th>\n      <th>0</th>\n      <td>38023</td>\n      <td>12</td>\n      <td>28.070273</td>\n      <td>48.017452</td>\n      <td>1072</td>\n    </tr>\n    <tr>\n      <th>1</th>\n      <td>6676</td>\n      <td>127</td>\n      <td>183.886309</td>\n      <td>189.626390</td>\n      <td>2961</td>\n    </tr>\n    <tr>\n      <th rowspan=\"2\" valign=\"top\">gate_40</th>\n      <th>0</th>\n      <td>38983</td>\n      <td>12</td>\n      <td>28.103353</td>\n      <td>48.927850</td>\n      <td>2640</td>\n    </tr>\n    <tr>\n      <th>1</th>\n      <td>6506</td>\n      <td>133</td>\n      <td>190.282355</td>\n      <td>194.220077</td>\n      <td>2294</td>\n    </tr>\n  </tbody>\n</table>\n</div>"
     },
     "execution_count": 35,
     "metadata": {},
     "output_type": "execute_result"
    }
   ],
   "source": [
    "data.groupby([\"version\", \"retention\"])[\"sum_gamerounds\"].agg([\"count\", \"median\", \"mean\", \"std\", \"max\"])"
   ],
   "metadata": {
    "collapsed": false,
    "pycharm": {
     "name": "#%%\n"
    }
   }
  },
  {
   "cell_type": "markdown",
   "source": [
    "## A/B-test"
   ],
   "metadata": {
    "collapsed": false,
    "pycharm": {
     "name": "#%% md\n"
    }
   }
  },
  {
   "cell_type": "code",
   "execution_count": 42,
   "outputs": [
    {
     "data": {
      "text/plain": "        userid version  sum_gamerounds  retention_1  retention_7  retention\n0          116       A               3        False        False          0\n1          337       A              38         True        False          0\n2          377       B             165         True        False          0\n3          483       B               1        False        False          0\n4          488       B             179         True         True          1\n...        ...     ...             ...          ...          ...        ...\n90184  9999441       B              97         True        False          0\n90185  9999479       B              30        False        False          0\n90186  9999710       A              28         True        False          0\n90187  9999768       B              51         True        False          0\n90188  9999861       B              16        False        False          0\n\n[90188 rows x 6 columns]",
      "text/html": "<div>\n<style scoped>\n    .dataframe tbody tr th:only-of-type {\n        vertical-align: middle;\n    }\n\n    .dataframe tbody tr th {\n        vertical-align: top;\n    }\n\n    .dataframe thead th {\n        text-align: right;\n    }\n</style>\n<table border=\"1\" class=\"dataframe\">\n  <thead>\n    <tr style=\"text-align: right;\">\n      <th></th>\n      <th>userid</th>\n      <th>version</th>\n      <th>sum_gamerounds</th>\n      <th>retention_1</th>\n      <th>retention_7</th>\n      <th>retention</th>\n    </tr>\n  </thead>\n  <tbody>\n    <tr>\n      <th>0</th>\n      <td>116</td>\n      <td>A</td>\n      <td>3</td>\n      <td>False</td>\n      <td>False</td>\n      <td>0</td>\n    </tr>\n    <tr>\n      <th>1</th>\n      <td>337</td>\n      <td>A</td>\n      <td>38</td>\n      <td>True</td>\n      <td>False</td>\n      <td>0</td>\n    </tr>\n    <tr>\n      <th>2</th>\n      <td>377</td>\n      <td>B</td>\n      <td>165</td>\n      <td>True</td>\n      <td>False</td>\n      <td>0</td>\n    </tr>\n    <tr>\n      <th>3</th>\n      <td>483</td>\n      <td>B</td>\n      <td>1</td>\n      <td>False</td>\n      <td>False</td>\n      <td>0</td>\n    </tr>\n    <tr>\n      <th>4</th>\n      <td>488</td>\n      <td>B</td>\n      <td>179</td>\n      <td>True</td>\n      <td>True</td>\n      <td>1</td>\n    </tr>\n    <tr>\n      <th>...</th>\n      <td>...</td>\n      <td>...</td>\n      <td>...</td>\n      <td>...</td>\n      <td>...</td>\n      <td>...</td>\n    </tr>\n    <tr>\n      <th>90184</th>\n      <td>9999441</td>\n      <td>B</td>\n      <td>97</td>\n      <td>True</td>\n      <td>False</td>\n      <td>0</td>\n    </tr>\n    <tr>\n      <th>90185</th>\n      <td>9999479</td>\n      <td>B</td>\n      <td>30</td>\n      <td>False</td>\n      <td>False</td>\n      <td>0</td>\n    </tr>\n    <tr>\n      <th>90186</th>\n      <td>9999710</td>\n      <td>A</td>\n      <td>28</td>\n      <td>True</td>\n      <td>False</td>\n      <td>0</td>\n    </tr>\n    <tr>\n      <th>90187</th>\n      <td>9999768</td>\n      <td>B</td>\n      <td>51</td>\n      <td>True</td>\n      <td>False</td>\n      <td>0</td>\n    </tr>\n    <tr>\n      <th>90188</th>\n      <td>9999861</td>\n      <td>B</td>\n      <td>16</td>\n      <td>False</td>\n      <td>False</td>\n      <td>0</td>\n    </tr>\n  </tbody>\n</table>\n<p>90188 rows × 6 columns</p>\n</div>"
     },
     "execution_count": 42,
     "metadata": {},
     "output_type": "execute_result"
    }
   ],
   "source": [
    "# явно укажем группы для игроков\n",
    "data['version'] = np.where(data['version'] == 'gate_30', 'A', 'B')\n",
    "data"
   ],
   "metadata": {
    "collapsed": false,
    "pycharm": {
     "name": "#%%\n"
    }
   }
  },
  {
   "cell_type": "markdown",
   "source": [
    "Проверка результатов A/B-теста:\n",
    "* проверка на нормальность распределения\n",
    "* проверка на гомогенность\n",
    "* выбор критерия проверки гипотезы"
   ],
   "metadata": {
    "collapsed": false,
    "pycharm": {
     "name": "#%% md\n"
    }
   }
  },
  {
   "cell_type": "code",
   "execution_count": 48,
   "outputs": [
    {
     "data": {
      "text/plain": "        Test Type AB Hypothesis   p-value                        Comment\n0  Non-Parametric     Reject H0  0.025446  Между группами есть различия!",
      "text/html": "<div>\n<style scoped>\n    .dataframe tbody tr th:only-of-type {\n        vertical-align: middle;\n    }\n\n    .dataframe tbody tr th {\n        vertical-align: top;\n    }\n\n    .dataframe thead th {\n        text-align: right;\n    }\n</style>\n<table border=\"1\" class=\"dataframe\">\n  <thead>\n    <tr style=\"text-align: right;\">\n      <th></th>\n      <th>Test Type</th>\n      <th>AB Hypothesis</th>\n      <th>p-value</th>\n      <th>Comment</th>\n    </tr>\n  </thead>\n  <tbody>\n    <tr>\n      <th>0</th>\n      <td>Non-Parametric</td>\n      <td>Reject H0</td>\n      <td>0.025446</td>\n      <td>Между группами есть различия!</td>\n    </tr>\n  </tbody>\n</table>\n</div>"
     },
     "execution_count": 48,
     "metadata": {},
     "output_type": "execute_result"
    }
   ],
   "source": [
    "def AB_Test(dataframe, group, target):\n",
    "\n",
    "    # Packages\n",
    "    from scipy.stats import shapiro\n",
    "    import scipy.stats as stats\n",
    "\n",
    "    # разобью ДФ на 2 группы\n",
    "    groupA = dataframe[dataframe[group] == \"A\"][target]\n",
    "    groupB = dataframe[dataframe[group] == \"B\"][target]\n",
    "\n",
    "    # проверка на нормальное распределение\n",
    "    ntA = shapiro(groupA)[1] < 0.05\n",
    "    ntB = shapiro(groupB)[1] < 0.05\n",
    "    # H0: Распределение нормальное! - False\n",
    "    # H1: Распределение не нормальное! - True\n",
    "\n",
    "    if (ntA == False) & (ntB == False): # \"H0: Нормальное распределение\"\n",
    "        # Parametric Test\n",
    "        # Проверка на гомогенность\n",
    "        leveneTest = stats.levene(groupA, groupB)[1] < 0.05\n",
    "        # H0: Гомогенные данные: False\n",
    "        # H1: Гетерогенные: True\n",
    "\n",
    "        if leveneTest == False:\n",
    "            # Если выборка гомогенная\n",
    "            ttest = stats.ttest_ind(groupA, groupB, equal_var=True)[1]\n",
    "            # H0: M1 == M2 - False\n",
    "            # H1: M1 != M2 - True\n",
    "        else:\n",
    "            # Если выборка гетерогенная\n",
    "            ttest = stats.ttest_ind(groupA, groupB, equal_var=False)[1]\n",
    "            # H0: M1 == M2 - False\n",
    "            # H1: M1 != M2 - True\n",
    "    else:\n",
    "        # Непараметрический тест\n",
    "        ttest = stats.mannwhitneyu(groupA, groupB)[1]\n",
    "        # H0: M1 == M2 - False\n",
    "        # H1: M1 != M2 - True\n",
    "\n",
    "    # Result\n",
    "    temp = pd.DataFrame({\n",
    "        \"AB Hypothesis\":[ttest < 0.05],\n",
    "        \"p-value\":[ttest]\n",
    "    })\n",
    "    temp[\"Test Type\"] = np.where((ntA == False) & (ntB == False), \"Parametric\", \"Non-Parametric\")\n",
    "    temp[\"AB Hypothesis\"] = np.where(temp[\"AB Hypothesis\"] == False, \"Fail to Reject H0\", \"Reject H0\")\n",
    "    temp[\"Comment\"] = np.where(temp[\"AB Hypothesis\"] == \"Fail to Reject H0\", \"Между группами нет различий!\", \"Между группами есть различия!\")\n",
    "\n",
    "    # Columns\n",
    "    if (ntA == False) & (ntB == False):\n",
    "        temp[\"Homogeneity\"] = np.where(leveneTest == False, \"Yes\", \"No\")\n",
    "        temp = temp[[\"Test Type\", \"Homogeneity\",\"AB Hypothesis\", \"p-value\", \"Comment\"]]\n",
    "    else:\n",
    "        temp = temp[[\"Test Type\",\"AB Hypothesis\", \"p-value\", \"Comment\"]]\n",
    "    return temp\n",
    "\n",
    "\n",
    "\n",
    "# Apply A/B Testing\n",
    "AB_Test(dataframe=data, group = \"version\", target = \"sum_gamerounds\")"
   ],
   "metadata": {
    "collapsed": false,
    "pycharm": {
     "name": "#%%\n"
    }
   }
  },
  {
   "cell_type": "markdown",
   "source": [
    "Вывод: между группами есть статистически значимые различия"
   ],
   "metadata": {
    "collapsed": false,
    "pycharm": {
     "name": "#%% md\n"
    }
   }
  },
  {
   "cell_type": "code",
   "execution_count": null,
   "outputs": [],
   "source": [],
   "metadata": {
    "collapsed": false,
    "pycharm": {
     "name": "#%%\n"
    }
   }
  }
 ],
 "metadata": {
  "kernelspec": {
   "display_name": "Python 3",
   "language": "python",
   "name": "python3"
  },
  "language_info": {
   "codemirror_mode": {
    "name": "ipython",
    "version": 2
   },
   "file_extension": ".py",
   "mimetype": "text/x-python",
   "name": "python",
   "nbconvert_exporter": "python",
   "pygments_lexer": "ipython2",
   "version": "2.7.6"
  }
 },
 "nbformat": 4,
 "nbformat_minor": 0
}